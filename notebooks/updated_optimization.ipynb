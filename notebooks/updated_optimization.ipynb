{
 "cells": [
  {
   "cell_type": "markdown",
   "id": "db799b3a",
   "metadata": {},
   "source": [
    "# Trading Strategy Optimization\n",
    "\n",
    "This notebook performs parameter optimization for a trading strategy using historical market data. The optimization process uses Optuna to find the best combination of parameters that maximize the strategy's performance."
   ]
  },
  {
   "cell_type": "code",
   "execution_count": null,
   "id": "75697a91",
   "metadata": {},
   "outputs": [],
   "source": [
    "import sys\n",
    "sys.path.append('..')\n",
    "\n",
    "import os\n",
    "import json\n",
    "import pandas as pd\n",
    "import numpy as np\n",
    "import matplotlib.pyplot as plt\n",
    "import seaborn as sns\n",
    "import optuna\n",
    "import re\n",
    "from datetime import datetime, time, timedelta\n",
    "\n",
    "PROJECT_ROOT = os.path.abspath(os.path.join(os.path.dirname('__file__'), '..'))\n",
    "RESULTS_DIR = os.path.join(PROJECT_ROOT, 'results')\n",
    "DATA_CACHE_DIR = os.path.join(PROJECT_ROOT, 'data_cache')\n",
    "LOGS_DIR = os.path.join(PROJECT_ROOT, 'logs')\n",
    "CONFIG_DIR = os.path.join(PROJECT_ROOT, 'config')\n",
    "\n",
    "os.makedirs(RESULTS_DIR, exist_ok=True)\n",
    "os.makedirs(DATA_CACHE_DIR, exist_ok=True)\n",
    "os.makedirs(LOGS_DIR, exist_ok=True)\n",
    "\n",
    "from src.data.data_loader import DataLoader\n",
    "from src.data.data_processor import DataProcessor\n",
    "from src.indicators.bollinger_bands import add_bollinger_bands\n",
    "from src.indicators.rsi import add_rsi\n",
    "from src.indicators.atr import add_atr\n",
    "from src.strategy.signal_generator import SignalGenerator\n",
    "from src.strategy.risk_manager import RiskManager\n",
    "from src.backtest.backtest_engine import BacktestEngine\n",
    "from src.backtest.performance import PerformanceMetrics\n",
    "from src.optimization.strategy_optimizer import StrategyOptimizer\n",
    "from src.visualization.optimization import plot_optimization_progress, plot_parameter_importance, plot_timeframe_analysis, plot_parameter_space\n",
    "from src.visualization.comparison import plot_parameter_comparison, plot_equity_curves_comparison\n",
    "\n",
    "sns.set_style(\"darkgrid\")\n",
    "plt.rcParams['figure.figsize'] = (14, 8)"
   ]
  },
  {
   "cell_type": "markdown",
   "id": "00b343f7",
   "metadata": {},
   "source": [
    "## 1. Configuration Setup\n",
    "\n",
    "Load the configuration settings for the optimization process, including timeframes to test and parameter ranges."
   ]
  },
  {
   "cell_type": "code",
   "execution_count": null,
   "id": "33fff26d",
   "metadata": {},
   "outputs": [],
   "source": [
    "from src.optimization.config_loader import ConfigLoader\n",
    "\n",
    "config_loader = ConfigLoader()\n",
    "config = config_loader.get_config()\n",
    "\n",
    "optimization_config = config.get(\"optimization\", {})\n",
    "timeframes = optimization_config.get(\"timeframes\", [\"5min\", \"15min\", \"30min\", \"1h\", \"4h\"])\n",
    "param_ranges = optimization_config.get(\"parameter_ranges\", {})\n",
    "\n",
    "print(\"\\nOptimization Configuration:\")\n",
    "print(f\"Timeframes to test: {timeframes}\")\n",
    "print(\"\\nParameter ranges:\")\n",
    "for param, range_dict in param_ranges.items():\n",
    "    print(f\"- {param}: {range_dict}\")"
   ]
  },
  {
   "cell_type": "markdown",
   "id": "0ff8e8a1",
   "metadata": {},
   "source": [
    "## 2. Define Training and Testing Periods\n",
    "\n",
    "Set the date ranges for the training and validation periods, as well as the number of optimization trials."
   ]
  },
  {
   "cell_type": "code",
   "execution_count": null,
   "id": "48e38bf3",
   "metadata": {},
   "outputs": [],
   "source": [
    "train_start_date = '2024-01-01'\n",
    "train_end_date = '2024-06-01'\n",
    "test_start_date = '2024-06-01' \n",
    "test_end_date = '2025-01-01'\n",
    "\n",
    "N_TRIALS = 100\n",
    "\n",
    "print(f\"Training period: {train_start_date} to {train_end_date}\")\n",
    "print(f\"Validation period: {test_start_date} to {test_end_date}\")\n",
    "print(f\"Number of optimization trials: {N_TRIALS}\")"
   ]
  },
  {
   "cell_type": "markdown",
   "id": "91456f71",
   "metadata": {},
   "source": [
    "## 3. Load Market Data\n",
    "\n",
    "Load historical market data for both training and validation periods."
   ]
  },
  {
   "cell_type": "code",
   "execution_count": null,
   "id": "d653ee0e",
   "metadata": {},
   "outputs": [],
   "source": [
    "loader = DataLoader(cache_dir=DATA_CACHE_DIR)\n",
    "\n",
    "print(\"Loading training data...\")\n",
    "train_data = loader.get_active_contract_data(train_start_date, train_end_date)\n",
    "print(f\"Loaded {len(train_data)} tick data points for training period\")\n",
    "\n",
    "print(\"\\nLoading validation data...\")\n",
    "test_data = loader.get_active_contract_data(test_start_date, test_end_date)\n",
    "print(f\"Loaded {len(test_data)} tick data points for validation period\")\n",
    "\n",
    "if train_data.empty or test_data.empty:\n",
    "    raise ValueError(\"Failed to load market data. Please check database connection and date range.\")"
   ]
  },
  {
   "cell_type": "markdown",
   "id": "10a9889f",
   "metadata": {},
   "source": [
    "## 4. Initialize Strategy Optimizer\n",
    "\n",
    "Create an instance of the StrategyOptimizer with the loaded data."
   ]
  },
  {
   "cell_type": "code",
   "execution_count": null,
   "id": "aa312e6d",
   "metadata": {},
   "outputs": [],
   "source": [
    "optimizer = StrategyOptimizer(\n",
    "    train_data=train_data,\n",
    "    test_data=test_data,\n",
    "    initial_capital=100000,\n",
    "    n_trials=N_TRIALS,\n",
    "    timeframes=timeframes,\n",
    ")"
   ]
  },
  {
   "cell_type": "markdown",
   "id": "b17ee62c",
   "metadata": {},
   "source": [
    "## 5. Run Optimization Process\n",
    "\n",
    "Execute the optimization process to find the best parameter combination."
   ]
  },
  {
   "cell_type": "code",
   "execution_count": null,
   "id": "c04d1476",
   "metadata": {},
   "outputs": [],
   "source": [
    "print(f\"Starting optimization with {N_TRIALS} trials...\")\n",
    "best_params = optimizer.optimize()\n",
    "\n",
    "print(\"\\nOptimization complete!\")\n",
    "print(f\"Best parameters: {best_params}\")"
   ]
  },
  {
   "cell_type": "markdown",
   "id": "61c5ab99",
   "metadata": {},
   "source": [
    "## 6. Analyze Optimization Results\n",
    "\n",
    "Load and analyze the results of the optimization process."
   ]
  },
  {
   "cell_type": "code",
   "execution_count": null,
   "id": "81b600ba",
   "metadata": {},
   "outputs": [],
   "source": [
    "from src.optimization.optimization_analyzer import OptimizationAnalyzer\n",
    "analyzer = OptimizationAnalyzer(log_file=\"logs/optimization_results.log\")\n",
    "opt_df = analyzer.trials_df\n",
    "print(f\"Found {len(opt_df)} optimization trials\")\n",
    "opt_df.head()"
   ]
  },
  {
   "cell_type": "markdown",
   "id": "0fbd3b75",
   "metadata": {},
   "source": [
    "## 7. Visualize Optimization Results\n",
    "\n",
    "Generate plots to visualize the optimization process and results."
   ]
  },
  {
   "cell_type": "code",
   "execution_count": null,
   "id": "b49e8c6b",
   "metadata": {},
   "outputs": [],
   "source": [
    "fig_progress = analyzer.plot_optimization_progress(save_path=os.path.join(RESULTS_DIR, 'optimization_progress.png'))\n",
    "plt.show()"
   ]
  },
  {
   "cell_type": "code",
   "execution_count": null,
   "id": "3e7bc201",
   "metadata": {},
   "outputs": [],
   "source": [
    "fig_importance = analyzer.plot_parameter_importance(save_path=os.path.join(RESULTS_DIR, 'parameter_importance.png'))\n",
    "plt.show()"
   ]
  },
  {
   "cell_type": "code",
   "execution_count": null,
   "id": "ca98acfe",
   "metadata": {},
   "outputs": [],
   "source": [
    "fig_timeframe, timeframe_analysis = analyzer.plot_timeframe_analysis(save_dir=RESULTS_DIR)\n",
    "plt.show()\n",
    "print(\"Performance by Timeframe:\")\n",
    "display(timeframe_analysis)"
   ]
  },
  {
   "cell_type": "markdown",
   "id": "906e35e0",
   "metadata": {},
   "source": [
    "## 8. Extract Top Parameter Combinations\n",
    "\n",
    "Identify the best parameter combinations from the optimization trials."
   ]
  },
  {
   "cell_type": "code",
   "execution_count": null,
   "id": "f1893c83",
   "metadata": {},
   "outputs": [],
   "source": [
    "top_params = analyzer.get_top_parameters(n=5)\n",
    "print(\"Top 5 parameter combinations:\")\n",
    "display(top_params)\n",
    "top_params.to_csv(os.path.join(RESULTS_DIR, 'top_parameters.csv'), index=False)"
   ]
  },
  {
   "cell_type": "markdown",
   "id": "7af8b6ba",
   "metadata": {},
   "source": [
    "## 9. Validate Best Parameters\n",
    "\n",
    "Test the best parameters on the validation dataset and generate performance metrics."
   ]
  },
  {
   "cell_type": "code",
   "execution_count": null,
   "id": "1df85710",
   "metadata": {},
   "outputs": [],
   "source": [
    "summary = analyzer.generate_summary_report(save_dir=RESULTS_DIR)\n",
    "best_params = summary['best_parameters']\n",
    "\n",
    "print(\"Best parameters from optimization:\")\n",
    "for param, value in best_params.items():\n",
    "    print(f\"- {param}: {value}\")\n",
    "\n",
    "validation_results, metrics = optimizer.validate_best_parameters(best_params)\n",
    "\n",
    "print(\"\\nOut-of-Sample Validation Results:\")\n",
    "if metrics is not None:\n",
    "    for metric, value in metrics.items():\n",
    "        print(f\"{metric}: {value:.4f}\" if isinstance(value, (int, float)) else f\"{metric}: {value}\")\n",
    "else:\n",
    "    print(\"Validation failed or no trades were executed\")\n",
    "\n",
    "if validation_results and 'portfolio_history' in validation_results and len(validation_results['portfolio_history']) > 1:\n",
    "    from src.visualization.backtest import plot_equity_curve\n",
    "    fig = plot_equity_curve(\n",
    "        validation_results['portfolio_history'],\n",
    "        initial_capital=100000,\n",
    "        save_path=os.path.join(RESULTS_DIR, 'validation_equity_curve.png')\n",
    "    )\n",
    "    plt.show()\n",
    "else:\n",
    "    print(\"No equity curve available - insufficient data\")"
   ]
  },
  {
   "cell_type": "markdown",
   "id": "9f58af17",
   "metadata": {},
   "source": [
    "## 10. Compare Default vs. Optimized Parameters\n",
    "\n",
    "Compare the performance of the default parameters against the optimized parameters."
   ]
  },
  {
   "cell_type": "code",
   "execution_count": null,
   "id": "bdd1c1f8",
   "metadata": {},
   "outputs": [],
   "source": [
    "from src.pipeline import TradingPipeline\n",
    "\n",
    "\n",
    "default_params = config['parameters'].copy()\n",
    "print(\"Running backtest with default parameters...\")\n",
    "\n",
    "pipeline_default = TradingPipeline(config)\n",
    "default_results, default_signals_df = pipeline_default.run_backtest(test_start_date, test_end_date, default_params['default_timeframe'])\n",
    "\n",
    "if default_results and 'trades' in default_results and not default_results['trades'].empty:\n",
    "    default_performance = PerformanceMetrics(\n",
    "        default_results['trades'],\n",
    "        default_results['portfolio_history']\n",
    "    )\n",
    "    default_metrics = default_performance.generate_report()\n",
    "    \n",
    "    print(\"Performance with Default Parameters:\")\n",
    "    for metric, value in default_metrics.items():\n",
    "        print(f\"{metric}: {value:.4f}\" if isinstance(value, (int, float)) else f\"{metric}: {value}\")\n",
    "else:\n",
    "    default_metrics = None\n",
    "    print(\"No trades were executed with default parameters\")\n",
    "\n",
    "if default_metrics and metrics:\n",
    "    fig_comparison, comparison_df = plot_parameter_comparison(\n",
    "        default_metrics, \n",
    "        metrics, \n",
    "        save_path='results/metrics_comparison.png'\n",
    "    )\n",
    "    plt.show()\n",
    "    \n",
    "    print(\"Comparison of Default vs Optimized Parameters:\")\n",
    "    display(comparison_df)\n",
    "    comparison_df.to_csv(os.path.join(RESULTS_DIR, 'parameter_comparison.csv'))\n",
    "    \n",
    "    fig_curves = plot_equity_curves_comparison(\n",
    "        default_results['portfolio_history'],\n",
    "        validation_results['portfolio_history'],\n",
    "        save_path=os.path.join(RESULTS_DIR, 'default_vs_optimized.png')\n",
    "    )\n",
    "    plt.show()\n",
    "else:\n",
    "    print(\"Cannot compare metrics - insufficient data\")"
   ]
  },
  {
   "cell_type": "markdown",
   "id": "8431125e",
   "metadata": {},
   "source": [
    "## 11. Save Optimized Parameters\n",
    "\n",
    "Save the optimized parameters to configuration files for future use."
   ]
  },
  {
   "cell_type": "code",
   "execution_count": null,
   "id": "3f7f37e4",
   "metadata": {},
   "outputs": [],
   "source": [
    "best_trial = analyzer.get_top_parameters(n=1).iloc[0].to_dict()\n",
    "\n",
    "optimized_config = config.copy()\n",
    "\n",
    "optimized_config['parameters']['bb_window'] = best_params['bb_window']\n",
    "optimized_config['parameters']['bb_std'] = best_params['bb_std']\n",
    "optimized_config['parameters']['rsi_period'] = best_params['rsi_period']\n",
    "optimized_config['parameters']['rsi_lower'] = best_params['rsi_lower']\n",
    "optimized_config['parameters']['rsi_upper'] = best_params['rsi_upper']\n",
    "optimized_config['parameters']['atr_period'] = best_params['atr_period']\n",
    "optimized_config['parameters']['take_profit_mult'] = best_params['take_profit_mult']\n",
    "optimized_config['parameters']['stop_loss_mult'] = best_params['stop_loss_mult']\n",
    "\n",
    "if 'timeframe' in best_params:\n",
    "    optimized_config['parameters']['default_timeframe'] = best_params['timeframe']\n",
    "else:\n",
    "    optimized_config['parameters']['default_timeframe'] = best_trial.get('timeframe', config['parameters']['default_timeframe'])\n",
    "\n",
    "optimized_config['optimization_results'] = {\n",
    "    'date': datetime.now().strftime('%Y-%m-%d %H:%M'),\n",
    "    'train_period': f'{train_start_date} to {train_end_date}',\n",
    "    'test_period': f'{test_start_date} to {test_end_date}',\n",
    "    'trials': N_TRIALS,\n",
    "    'best_score': float(best_trial['score']) if 'score' in best_trial else float(best_params.get('score', 0))\n",
    "}\n",
    "\n",
    "if metrics:\n",
    "    optimized_config['performance'] = {\n",
    "        metric: float(value) if isinstance(value, (int, float, np.number)) else value \n",
    "        for metric, value in metrics.items()\n",
    "        if metric in ['Win Rate', 'Profit Factor', 'Sharpe Ratio', 'Maximum Drawdown', 'Total Return', 'Total Trades']\n",
    "    }\n",
    "\n",
    "output_path = os.path.join(CONFIG_DIR, 'optimized_parameters.json')\n",
    "with open(output_path, 'w') as f:\n",
    "    json.dump(optimized_config, f, indent=4)\n",
    "\n",
    "print(f'Optimized parameters saved to {output_path}')\n",
    "\n",
    "optimized_params = {\n",
    "    'parameters': best_params,\n",
    "    'optimization_info': {\n",
    "        'date': datetime.now().strftime('%Y-%m-%d %H:%M'),\n",
    "        'train_period': f'{train_start_date} to {train_end_date}',\n",
    "        'test_period': f'{test_start_date} to {test_end_date}',\n",
    "        'best_score': float(best_trial['score']) if 'score' in best_trial else float(best_params.get('score', 0))\n",
    "    },\n",
    "    'performance': optimized_config.get('performance', {})\n",
    "}\n",
    "\n",
    "with open(os.path.join(RESULTS_DIR, 'optimized_parameters.json'), 'w') as f:\n",
    "    json.dump(optimized_params, f, indent=4)\n",
    "    \n",
    "print(f'Optimized parameters also saved to {os.path.join(RESULTS_DIR, \"optimized_parameters.json\")}')"
   ]
  }
 ],
 "metadata": {
  "kernelspec": {
   "display_name": "Python 3",
   "language": "python",
   "name": "python3"
  },
  "language_info": {
   "codemirror_mode": {
    "name": "ipython",
    "version": 3
   },
   "file_extension": ".py",
   "mimetype": "text/x-python",
   "name": "python",
   "nbconvert_exporter": "python",
   "pygments_lexer": "ipython3",
   "version": "3.12.2"
  }
 },
 "nbformat": 4,
 "nbformat_minor": 5
}
