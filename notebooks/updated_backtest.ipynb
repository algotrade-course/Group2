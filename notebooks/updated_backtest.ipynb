{
 "cells": [
  {
   "cell_type": "markdown",
   "metadata": {},
   "source": [
    "# Run Backtest Pipeline\n",
    "\n",
    "This notebook demonstrates running the backtest pipeline step by step."
   ]
  },
  {
   "cell_type": "code",
   "execution_count": null,
   "metadata": {},
   "outputs": [],
   "source": [
    "import sys\n",
    "sys.path.append('..')\n",
    "\n",
    "import os\n",
    "import json\n",
    "import pandas as pd\n",
    "import numpy as np\n",
    "import matplotlib.pyplot as plt\n",
    "import seaborn as sns\n",
    "from datetime import datetime, time, timedelta\n",
    "\n",
    "PROJECT_ROOT = os.path.abspath(os.path.join(os.path.dirname('__file__'), '..'))\n",
    "RESULTS_DIR = os.path.join(PROJECT_ROOT, 'results')\n",
    "DATA_CACHE_DIR = os.path.join(PROJECT_ROOT, 'data_cache')\n",
    "LOGS_DIR = os.path.join(PROJECT_ROOT, 'logs')\n",
    "CONFIG_DIR = os.path.join(PROJECT_ROOT, 'config')\n",
    "\n",
    "os.makedirs(RESULTS_DIR, exist_ok=True)\n",
    "os.makedirs(DATA_CACHE_DIR, exist_ok=True)\n",
    "os.makedirs(LOGS_DIR, exist_ok=True)\n",
    "\n",
    "from src.data.data_loader import DataLoader\n",
    "from src.data.data_processor import DataProcessor\n",
    "from src.indicators.bollinger_bands import add_bollinger_bands\n",
    "from src.indicators.rsi import add_rsi\n",
    "from src.indicators.atr import add_atr\n",
    "from src.strategy.signal_generator import SignalGenerator\n",
    "from src.strategy.risk_manager import RiskManager\n",
    "from src.backtest.backtest_engine import BacktestEngine\n",
    "from src.backtest.performance import PerformanceMetrics\n",
    "from src.visualization.backtest import plot_backtest_results, plot_performance_metrics, plot_equity_curve, plot_trade_analysis\n",
    "\n",
    "sns.set_style(\"darkgrid\")\n",
    "plt.rcParams['figure.figsize'] = (14, 8)"
   ]
  },
  {
   "cell_type": "markdown",
   "metadata": {},
   "source": [
    "## Step 1: Load Market Data"
   ]
  },
  {
   "cell_type": "code",
   "execution_count": null,
   "metadata": {},
   "outputs": [],
   "source": [
    "from src.optimization.config_loader import ConfigLoader\n",
    "\n",
    "config_loader = ConfigLoader()\n",
    "config = config_loader.get_config()\n",
    "\n",
    "params = config_loader.get_default_parameters()\n",
    "bb_window = params.get(\"bb_window\", 20)\n",
    "bb_std = params.get(\"bb_std\", 1.8)\n",
    "rsi_period = params.get(\"rsi_period\", 13)\n",
    "rsi_lower = params.get(\"rsi_lower\", 30)\n",
    "rsi_upper = params.get(\"rsi_upper\", 70)\n",
    "atr_period = params.get(\"atr_period\", 14)\n",
    "take_profit_mult = params.get(\"take_profit_mult\", 4.0)\n",
    "stop_loss_mult = params.get(\"stop_loss_mult\", 1.0)\n",
    "timeframe = params.get(\"default_timeframe\", \"15min\")\n",
    "\n",
    "print(f\"\\nStrategy Parameters:\")\n",
    "print(f\"Timeframe: {timeframe}\")\n",
    "print(f\"Bollinger Bands: Window={bb_window}, StdDev={bb_std}\")\n",
    "print(f\"RSI: Period={rsi_period}, Oversold={rsi_lower}, Overbought={rsi_upper}\")\n",
    "print(f\"ATR: Period={atr_period}\")\n",
    "print(f\"Take Profit: {take_profit_mult}x ATR\")\n",
    "print(f\"Stop Loss: {stop_loss_mult}x ATR\")"
   ]
  },
  {
   "cell_type": "markdown",
   "metadata": {},
   "source": [
    "## Step 2: Process Data and Add Indicators"
   ]
  },
  {
   "cell_type": "code",
   "execution_count": null,
   "metadata": {},
   "outputs": [],
   "source": [
    "start_date = '2024-01-01'\n",
    "end_date = '2024-06-01'\n",
    "\n",
    "loader = DataLoader(cache_dir=DATA_CACHE_DIR)\n",
    "processor = DataProcessor(cache_dir=os.path.join(DATA_CACHE_DIR, \"ohlcv\"))\n",
    "\n",
    "print(f\"Loading market data from {start_date} to {end_date}...\")\n",
    "data = loader.get_active_contract_data(start_date, end_date)\n",
    "print(f\"Loaded {len(data)} tick data points\")\n",
    "\n",
    "print(f\"\\nResampling to {timeframe} candles...\")\n",
    "ohlcv_data = processor.resample_to_ohlcv(data, timeframe=timeframe)\n",
    "print(f\"Created {len(ohlcv_data)} OHLCV candles\")\n",
    "\n",
    "print(\"\\nSample OHLCV data:\")\n",
    "display(ohlcv_data.head())"
   ]
  },
  {
   "cell_type": "markdown",
   "metadata": {},
   "source": [
    "## Step 3: Generate Trading Signals"
   ]
  },
  {
   "cell_type": "code",
   "execution_count": null,
   "metadata": {},
   "outputs": [],
   "source": [
    "from src.pipeline import TradingPipeline\n",
    "pipeline = TradingPipeline(config)\n",
    "\n",
    "print(\"Adding technical indicators...\")\n",
    "prepared_data = pipeline.prepare_data(data, timeframe=timeframe)\n",
    "\n",
    "print(\"\\nData with indicators:\")\n",
    "display(prepared_data.tail())"
   ]
  },
  {
   "cell_type": "code",
   "execution_count": null,
   "metadata": {},
   "outputs": [],
   "source": [
    "from src.visualization.backtest import plot_candles\n",
    "\n",
    "window_size = 200\n",
    "if len(prepared_data) > window_size:\n",
    "    plot_window = prepared_data.iloc[-window_size:]\n",
    "else:\n",
    "    plot_window = prepared_data\n",
    "\n",
    "print(f\"Plotting candlestick chart for the last {len(plot_window)} candles...\")\n",
    "fig = plot_candles(\n",
    "    plot_window, \n",
    "    ticker=\"VN30F1M\",\n",
    "    volume=True,\n",
    "    save_path=os.path.join(RESULTS_DIR, 'candlestick_chart.png')\n",
    ")\n",
    "plt.show()\n"
   ]
  },
  {
   "cell_type": "markdown",
   "metadata": {},
   "source": [
    "## Step 4: Run Backtest"
   ]
  },
  {
   "cell_type": "code",
   "execution_count": null,
   "metadata": {},
   "outputs": [],
   "source": [
    "print(\"Generating trading signals...\")\n",
    "signal_gen = SignalGenerator(rsi_lower=rsi_lower, rsi_upper=rsi_upper)\n",
    "signals_df = signal_gen.generate_signals(prepared_data)\n",
    "\n",
    "buy_signals = signals_df['buy_signal'].sum()\n",
    "sell_signals = signals_df['sell_signal'].sum()\n",
    "print(f\"Generated {buy_signals} buy signals and {sell_signals} sell signals\")\n",
    "\n",
    "buy_examples = signals_df[signals_df['buy_signal'] == 1].head(3)\n",
    "sell_examples = signals_df[signals_df['sell_signal'] == 1].head(3)\n",
    "\n",
    "print(\"\\nSample buy signals:\")\n",
    "display(buy_examples[['datetime', 'close', 'rsi', 'lower_band', 'upper_band']])\n",
    "\n",
    "print(\"\\nSample sell signals:\")\n",
    "display(sell_examples[['datetime', 'close', 'rsi', 'lower_band', 'upper_band']])"
   ]
  },
  {
   "cell_type": "markdown",
   "metadata": {},
   "source": [
    "## Step 5: Analyze Performance"
   ]
  },
  {
   "cell_type": "code",
   "execution_count": null,
   "metadata": {},
   "outputs": [],
   "source": [
    "risk_manager = RiskManager()\n",
    "backtest_engine = BacktestEngine(initial_balance=100000)\n",
    "\n",
    "print(\"Running backtest...\")\n",
    "backtest_results = backtest_engine.run_backtest(signals_df, risk_manager)\n",
    "\n",
    "if 'trades' in backtest_results and not backtest_results['trades'].empty:\n",
    "    n_trades = len(backtest_results['trades'])\n",
    "    final_balance = backtest_results['final_balance']\n",
    "    print(f\"Backtest completed with {n_trades} trades\")\n",
    "    print(f\"Initial balance: $100,000\")\n",
    "    print(f\"Final balance: ${final_balance:.2f}\")\n",
    "    print(f\"Net P&L: ${final_balance - 100000:.2f}\")\n",
    "else:\n",
    "    print(\"No trades were executed in the backtest period\")"
   ]
  },
  {
   "cell_type": "markdown",
   "metadata": {},
   "source": [
    "## Step 6: Visualize Results"
   ]
  },
  {
   "cell_type": "code",
   "execution_count": null,
   "metadata": {},
   "outputs": [],
   "source": [
    "print(\"Plotting backtest results with signals...\")\n",
    "fig = plot_backtest_results(\n",
    "    signals_df,\n",
    "    trades_df=backtest_results['trades'] if 'trades' in backtest_results and not backtest_results['trades'].empty else None,\n",
    "    indicators=True,\n",
    "    figsize=(18, 14),\n",
    "    save_path=os.path.join(RESULTS_DIR, 'backtest_chart.png')\n",
    ")\n",
    "plt.show()"
   ]
  },
  {
   "cell_type": "code",
   "execution_count": null,
   "metadata": {},
   "outputs": [],
   "source": [
    "\n",
    "if 'trades' in backtest_results and not backtest_results['trades'].empty:\n",
    "    performance = PerformanceMetrics(\n",
    "        backtest_results['trades'], \n",
    "        backtest_results['portfolio_history']\n",
    "    )\n",
    "    \n",
    "    metrics = performance.generate_report()\n",
    "    \n",
    "    print(\"Performance Metrics:\")\n",
    "    for key, value in metrics.items():\n",
    "        print(f\"{key}: {value:.4f}\" if isinstance(value, (float, int)) else f\"{key}: {value}\")\n",
    "    \n",
    "    fig = plot_performance_metrics(metrics)\n",
    "    plt.show()\n",
    "else:\n",
    "    print(\"No performance metrics available - no trades were executed\")"
   ]
  },
  {
   "cell_type": "markdown",
   "metadata": {},
   "source": [
    "## Step 7: Save Results"
   ]
  },
  {
   "cell_type": "code",
   "execution_count": null,
   "metadata": {},
   "outputs": [],
   "source": [
    "\n",
    "\n",
    "if 'portfolio_history' in backtest_results and len(backtest_results['portfolio_history']) > 1:\n",
    "    fig = plot_equity_curve(backtest_results['portfolio_history'], save_path=os.path.join(RESULTS_DIR, 'equity_curve.png'))\n",
    "    plt.show()\n",
    "else:\n",
    "    print(\"No equity curve available - insufficient data\")"
   ]
  },
  {
   "cell_type": "code",
   "execution_count": null,
   "metadata": {},
   "outputs": [],
   "source": [
    "\n",
    "\n",
    "if 'trades' in backtest_results and not backtest_results['trades'].empty:\n",
    "    trades_df = backtest_results['trades']\n",
    "    \n",
    "    fig_trades, fig_exit, profit_by_exit = plot_trade_analysis(trades_df)\n",
    "    \n",
    "    plt.figure(fig_trades.number)\n",
    "    plt.show()\n",
    "    \n",
    "    if fig_exit:\n",
    "        plt.figure(fig_exit.number)\n",
    "        plt.show()\n",
    "    \n",
    "    if profit_by_exit is not None:\n",
    "        print(\"\\nProfit by Exit Reason:\")\n",
    "        display(profit_by_exit)\n",
    "else:\n",
    "    print(\"No trade distribution available - no trades were executed\")"
   ]
  },
  {
   "cell_type": "code",
   "execution_count": null,
   "metadata": {},
   "outputs": [],
   "source": [
    "if 'trades' in backtest_results and not backtest_results['trades'].empty:\n",
    "    trades_df = backtest_results['trades']\n",
    "    trades_df.to_csv(os.path.join(RESULTS_DIR, 'trades.csv'), index=False)\n",
    "    print(f\"Saved {len(trades_df)} trades to {os.path.join(RESULTS_DIR, 'trades.csv')}\")\n",
    "    \n",
    "    if 'metrics' in locals():\n",
    "        metrics_dict = {k: float(v) if isinstance(v, (int, float, np.number)) else v for k, v in metrics.items()}\n",
    "        \n",
    "        result_data = {\n",
    "            \"parameters\": params,\n",
    "            \"test_period\": {\n",
    "                \"start_date\": start_date,\n",
    "                \"end_date\": end_date\n",
    "            },\n",
    "            \"metrics\": metrics_dict,\n",
    "            \"summary\": {\n",
    "                \"initial_balance\": 100000,\n",
    "                \"final_balance\": float(backtest_results['final_balance']),\n",
    "                \"total_trades\": len(trades_df),\n",
    "                \"buy_signals\": int(buy_signals),\n",
    "                \"sell_signals\": int(sell_signals),\n",
    "                \"timestamp\": datetime.now().strftime(\"%Y-%m-%d %H:%M:%S\")\n",
    "            }\n",
    "        }\n",
    "        \n",
    "        with open(os.path.join(RESULTS_DIR, 'backtest_results.json'), 'w') as f:\n",
    "            json.dump(result_data, f, indent=4)\n",
    "\n",
    "        print(f\"Saved performance metrics to {os.path.join(RESULTS_DIR, 'backtest_results.json')}\")\n",
    "else:\n",
    "    print(\"No results saved - no trades were executed\")"
   ]
  }
 ],
 "metadata": {
  "kernelspec": {
   "display_name": "Python 3",
   "language": "python",
   "name": "python3"
  },
  "language_info": {
   "codemirror_mode": {
    "name": "ipython",
    "version": 3
   },
   "file_extension": ".py",
   "mimetype": "text/x-python",
   "name": "python",
   "nbconvert_exporter": "python",
   "pygments_lexer": "ipython3",
   "version": "3.12.2"
  }
 },
 "nbformat": 4,
 "nbformat_minor": 2
}
